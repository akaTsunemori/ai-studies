{
 "cells": [
  {
   "cell_type": "markdown",
   "metadata": {
    "id": "HVc1JHm4e_p_"
   },
   "source": [
    "# Project 5: Image Recognition with Convolutional Neural Networks"
   ]
  },
  {
   "cell_type": "markdown",
   "metadata": {
    "id": "8HfvQgKlYJhK"
   },
   "source": [
    "## Introduction\n",
    "\n",
    "In this exercise, we will use Convolutional Neural Networks to implement an algorithm that can distinguish between dog breeds from images.\n",
    "\n",
    "First, we will use the `fastai` library to classify images of dogs and cats.\n",
    "\n",
    "Next, we will perform the task of distinguishing dogs of different breeds by implementing a neural network in PyTorch.\n",
    "\n",
    "Finally, we will apply the Transfer Learning technique to implement an algorithm that can classify images of dogs of different breeds."
   ]
  },
  {
   "cell_type": "code",
   "execution_count": 41,
   "metadata": {
    "executionInfo": {
     "elapsed": 566,
     "status": "ok",
     "timestamp": 1702405028367,
     "user": {
      "displayName": "Arthur C.",
      "userId": "18023806256318143056"
     },
     "user_tz": 180
    },
    "id": "YSy2CcCJaX11"
   },
   "outputs": [],
   "source": [
    "import os\n",
    "import numpy as np\n",
    "import time\n",
    "import torch\n",
    "from matplotlib import pyplot\n",
    "from torchvision import transforms, models\n",
    "from torchvision.datasets import ImageFolder\n",
    "from torch.utils.data import DataLoader, random_split\n",
    "from torch import nn\n",
    "from torch import optim\n",
    "import utils\n",
    "\n",
    "%matplotlib inline"
   ]
  },
  {
   "cell_type": "code",
   "execution_count": null,
   "metadata": {
    "colab": {
     "base_uri": "https://localhost:8080/"
    },
    "executionInfo": {
     "elapsed": 389,
     "status": "ok",
     "timestamp": 1702405031243,
     "user": {
      "displayName": "Arthur C.",
      "userId": "18023806256318143056"
     },
     "user_tz": 180
    },
    "id": "4FP_HTRkA8BK",
    "outputId": "55b5c869-8f19-406b-d713-475ac1abe6da"
   },
   "outputs": [],
   "source": [
    "train_on_gpu = torch.cuda.is_available()  \n",
    "if train_on_gpu:\n",
    "    device = torch.device(\"cuda\")  \n",
    "    print(\"Training on GPU.\")\n",
    "else:\n",
    "    device = torch.device(\"cpu\")\n",
    "    print(\"GPU unavailable, training on CPU.\")"
   ]
  },
  {
   "cell_type": "markdown",
   "metadata": {
    "id": "FsUcz8mWaZbh"
   },
   "source": [
    "## 1 FastAI\n",
    "\n",
    "FastAI is a Machine Learning library that aims to simplify the creation of neural networks as much as possible, making it possible to implement efficient artificial intelligence algorithms quickly and easily. FastAI is expected to be installed on your system.\n",
    "\n",
    "`pip install git+https://github.com/fastai/fastai.git`"
   ]
  },
  {
   "cell_type": "code",
   "execution_count": 29,
   "metadata": {
    "executionInfo": {
     "elapsed": 31,
     "status": "ok",
     "timestamp": 1702404982394,
     "user": {
      "displayName": "Arthur C.",
      "userId": "18023806256318143056"
     },
     "user_tz": 180
    },
    "id": "claTTgRQfsiN"
   },
   "outputs": [],
   "source": [
    "import fastai.vision.all as fst"
   ]
  },
  {
   "cell_type": "markdown",
   "metadata": {
    "id": "dLp3Uy18rtgh"
   },
   "source": [
    "### 1.1 Downloading the dataset\n",
    "\n",
    "We will start the execution by collecting the path (*path*) of the directory in which the dataset is located. To do this, we will use the `fst.untar_data()` function with `fst.URLs.PETS` as a parameter. The variable `fst.URLs.PETS` contains the link to a dataset whose contents are images of cats and dogs of various breeds. The `fst.untar_data()` function downloads these images and returns a variable of type `Path` with the directory in which these images were downloaded. Note that we have concatenated this path with `'images'` so that we can enter this directory to access all the images in the dataset."
   ]
  },
  {
   "cell_type": "code",
   "execution_count": 30,
   "metadata": {
    "executionInfo": {
     "elapsed": 29,
     "status": "ok",
     "timestamp": 1702404982394,
     "user": {
      "displayName": "Arthur C.",
      "userId": "18023806256318143056"
     },
     "user_tz": 180
    },
    "id": "8BYecxZigXLR"
   },
   "outputs": [],
   "source": [
    "path = fst.untar_data(fst.URLs.PETS) / \"images\""
   ]
  },
  {
   "cell_type": "markdown",
   "metadata": {
    "id": "e6qadeE38p31"
   },
   "source": [
    "### 1.2 Data visualization\n",
    "\n",
    "With the directory path specified, we can access it to collect the list of images within it, using the `fst.get_image_files()` function. We'll print out the first 10 elements of this list to understand what it's about and then calculate its length, so we know the size of our dataset."
   ]
  },
  {
   "cell_type": "code",
   "execution_count": null,
   "metadata": {
    "colab": {
     "base_uri": "https://localhost:8080/"
    },
    "executionInfo": {
     "elapsed": 29,
     "status": "ok",
     "timestamp": 1702404982394,
     "user": {
      "displayName": "Arthur C.",
      "userId": "18023806256318143056"
     },
     "user_tz": 180
    },
    "id": "YasF-OS4iGPK",
    "outputId": "c5502160-f0ca-4cbb-88ca-d60b2b189a96"
   },
   "outputs": [],
   "source": [
    "# Get list of files\n",
    "files = list(fst.get_image_files(path))\n",
    "files[:10]"
   ]
  },
  {
   "cell_type": "code",
   "execution_count": null,
   "metadata": {
    "colab": {
     "base_uri": "https://localhost:8080/"
    },
    "executionInfo": {
     "elapsed": 23,
     "status": "ok",
     "timestamp": 1702404982395,
     "user": {
      "displayName": "Arthur C.",
      "userId": "18023806256318143056"
     },
     "user_tz": 180
    },
    "id": "QVpCVnozAsXB",
    "outputId": "d69a9784-d8fc-4817-a3c5-c54d90041416"
   },
   "outputs": [],
   "source": [
    "print(\"Number of images:\", len(files))"
   ]
  },
  {
   "cell_type": "markdown",
   "metadata": {
    "id": "b1rBkGdj_bmE"
   },
   "source": [
    "Our dataset therefore consists of 7390 images of cats and dogs. This is the data we are going to use to train and test the neural network we are going to set up. To understand what the images look like, we'll use the `fst.PILImage.create()` function to display one of the images in the `files` variable."
   ]
  },
  {
   "cell_type": "code",
   "execution_count": null,
   "metadata": {
    "colab": {
     "base_uri": "https://localhost:8080/",
     "height": 219
    },
    "executionInfo": {
     "elapsed": 20,
     "status": "ok",
     "timestamp": 1702404982395,
     "user": {
      "displayName": "Arthur C.",
      "userId": "18023806256318143056"
     },
     "user_tz": 180
    },
    "id": "E6IWVcIWkAx-",
    "outputId": "926f344c-b216-4155-86da-3177f2cd84bf"
   },
   "outputs": [],
   "source": [
    "from random import randint\n",
    "\n",
    "fst.PILImage.create(files[randint(0, 7390)])"
   ]
  },
  {
   "cell_type": "markdown",
   "metadata": {
    "id": "WfPZXcWWCkbs"
   },
   "source": [
    "Going back to the `files` variable, notice that the cat images are saved in files whose names start with an uppercase letter, while the dog images are in files whose names start with a lowercase letter. This was done so that it would be possible to differentiate the images by file name alone, since it is this differentiation that will be used to produce the labels for each image. The `is_cat()` function, created in the cell below, returns a boolean that indicates whether the first letter of the input variable is uppercase (in this case, `True`) or lowercase (`False`)."
   ]
  },
  {
   "cell_type": "code",
   "execution_count": 34,
   "metadata": {
    "executionInfo": {
     "elapsed": 17,
     "status": "ok",
     "timestamp": 1702404982395,
     "user": {
      "displayName": "Arthur C.",
      "userId": "18023806256318143056"
     },
     "user_tz": 180
    },
    "id": "Z5vJ1RzLkWeB"
   },
   "outputs": [],
   "source": [
    "def is_cat(x):\n",
    "    return x[0].isupper()"
   ]
  },
  {
   "cell_type": "markdown",
   "metadata": {
    "id": "zz1IiFQgGZq5"
   },
   "source": [
    "To finish processing our data, we'll create a Dataloader using the `fst.ImageDataLoaders.from_name_func()` function from the *fastai2* library. The function parameters are:\n",
    "\n",
    "- `path`: indicates the directory in which the algorithm should work.\n",
    "- `fnames`: receives the list with the directories and names of all the images that will be incorporated into the DataLoader.\n",
    "- `valid_pct`: determines the size of the validation dataset (in this case, valid_pct=0.2 means that 20% of the dataset will be used for validation).\n",
    "- `seed`: chooses any number to ensure that the exercise is reproduced with the same results.\n",
    "- `label_func`: specifies the function that will identify the label of each example in the dataset, in our case, the `is_cat()` function defined in the cell above.\n",
    "- `item_tfms`: specifies which transformations will be applied to each image in the dataset, the most common of which is resizing(*resize*)."
   ]
  },
  {
   "cell_type": "code",
   "execution_count": 35,
   "metadata": {
    "executionInfo": {
     "elapsed": 477,
     "status": "ok",
     "timestamp": 1702404982855,
     "user": {
      "displayName": "Arthur C.",
      "userId": "18023806256318143056"
     },
     "user_tz": 180
    },
    "id": "lkgTfwEPGaNk"
   },
   "outputs": [],
   "source": [
    "# Load data into fastai\n",
    "dls = fst.ImageDataLoaders.from_name_func(  # Structure of dataset\n",
    "    path=path,  # Working directory\n",
    "    fnames=files,  # List of files\n",
    "    valid_pct=0.2,  # Size of validation set\n",
    "    seed=42,  # Random number seed\n",
    "    label_func=is_cat,  # Helper function for labels\n",
    "    item_tfms=fst.Resize(224),\n",
    ")  # Data transformations"
   ]
  },
  {
   "cell_type": "markdown",
   "metadata": {
    "id": "3jML9oTrkuSE"
   },
   "source": [
    "As mentioned above, the `seed` parameter works to guarantee the reproducibility of a random process, but how does this work?\n",
    "\n",
    "In fact, algorithms can't produce truly random processes, but so-called pseudo-random processes. These processes are mathematical functions that use other variables (usually the time) to produce sequences that appear random. Setting a value for the `seed` parameter makes the variable used the indicated value, so that the sequence of values generated will always be the same."
   ]
  },
  {
   "cell_type": "markdown",
   "metadata": {
    "id": "5PdJ-JBRF9QH"
   },
   "source": [
    "### 1.3 Creating and training the neural network\n",
    "\n",
    "With all the dataset processed, we can create our neural network. To do this, we will use the *transfer learning* technique, using a ResNet, a pre-trained residual neural network."
   ]
  },
  {
   "cell_type": "code",
   "execution_count": 36,
   "metadata": {
    "executionInfo": {
     "elapsed": 12,
     "status": "ok",
     "timestamp": 1702404982856,
     "user": {
      "displayName": "Arthur C.",
      "userId": "18023806256318143056"
     },
     "user_tz": 180
    },
    "id": "8NTfasdakiQA"
   },
   "outputs": [],
   "source": [
    "# Create a fastai \"learner\"\n",
    "learn = fst.cnn_learner(  # Helper function to create learner for CNNs\n",
    "    dls=dls, arch=fst.resnet34  # Previously created dataloaders\n",
    ")  # Pretrained model architecture"
   ]
  },
  {
   "cell_type": "markdown",
   "metadata": {
    "id": "yW8NSXFFnUBb"
   },
   "source": [
    "With ResNet34 and the `dls` dataloader selected, we can start training our neural network. To do this, we will use the `fine_tune()` function with the chosen number of epochs. As the dataset is relatively large and the network is already pre-trained, we won't need many epochs, so we've chosen to train our network for just 3 epochs."
   ]
  },
  {
   "cell_type": "code",
   "execution_count": null,
   "metadata": {
    "colab": {
     "base_uri": "https://localhost:8080/",
     "height": 434
    },
    "executionInfo": {
     "elapsed": 31508,
     "status": "error",
     "timestamp": 1702405014353,
     "user": {
      "displayName": "Arthur C.",
      "userId": "18023806256318143056"
     },
     "user_tz": 180
    },
    "id": "4r3mWXTnklmM",
    "outputId": "0fd518a4-7752-4d36-8c04-c998c560bc96"
   },
   "outputs": [],
   "source": [
    "epochs = 3\n",
    "\n",
    "# Train the model (fine-tuning)\n",
    "learn.fine_tune(3)"
   ]
  },
  {
   "cell_type": "markdown",
   "metadata": {
    "id": "eh3AOSjMq246"
   },
   "source": [
    "### 1.4 Testing the neural network\n",
    "\n",
    "Now we will test our trained network. To do this, we will use the `ipywidgets` library, which will allow us to upload any image saved on our computers.\n",
    "Choose two images of your choice, one with a cat in it and one with a dog, and run the test. Run the cell below to generate a field where you can upload images that will be used to test our neural network. At first, upload a picture of a cat."
   ]
  },
  {
   "cell_type": "code",
   "execution_count": null,
   "metadata": {
    "executionInfo": {
     "elapsed": 41,
     "status": "aborted",
     "timestamp": 1702405014377,
     "user": {
      "displayName": "Arthur C.",
      "userId": "18023806256318143056"
     },
     "user_tz": 180
    },
    "id": "MVZayEHhpws4"
   },
   "outputs": [],
   "source": [
    "# Test with cat\n",
    "from ipywidgets import widgets\n",
    "\n",
    "uploader1 = widgets.FileUpload()\n",
    "print(\"Upload an image containing a cat\")\n",
    "uploader1"
   ]
  },
  {
   "cell_type": "markdown",
   "metadata": {
    "id": "9_TlGu29CFYT"
   },
   "source": [
    "Once uploaded, we can visualize the image and then use it as input for the neural network."
   ]
  },
  {
   "cell_type": "code",
   "execution_count": null,
   "metadata": {
    "executionInfo": {
     "elapsed": 41,
     "status": "aborted",
     "timestamp": 1702405014377,
     "user": {
      "displayName": "Arthur C.",
      "userId": "18023806256318143056"
     },
     "user_tz": 180
    },
    "id": "g4HB1YDlvvD9"
   },
   "outputs": [],
   "source": [
    "img1 = fst.PILImage.create(uploader1.data[0])\n",
    "img1.to_thumb(200)"
   ]
  },
  {
   "cell_type": "code",
   "execution_count": null,
   "metadata": {
    "executionInfo": {
     "elapsed": 40,
     "status": "aborted",
     "timestamp": 1702405014377,
     "user": {
      "displayName": "Arthur C.",
      "userId": "18023806256318143056"
     },
     "user_tz": 180
    },
    "id": "Fwi5prfTuA3T"
   },
   "outputs": [],
   "source": [
    "is_cat, _, probs = learn.predict(img1)\n",
    "print(f\"Is this a cat?: {is_cat}.\")\n",
    "print(f\"Probability of being a cat: {100* probs[1].item():.6f}%\")"
   ]
  },
  {
   "cell_type": "markdown",
   "metadata": {
    "id": "cR8CckenCtVt"
   },
   "source": [
    "Now we'll do the same process, but with an image of a dog."
   ]
  },
  {
   "cell_type": "code",
   "execution_count": null,
   "metadata": {
    "executionInfo": {
     "elapsed": 40,
     "status": "aborted",
     "timestamp": 1702405014377,
     "user": {
      "displayName": "Arthur C.",
      "userId": "18023806256318143056"
     },
     "user_tz": 180
    },
    "id": "UfKZnDR5s94D"
   },
   "outputs": [],
   "source": [
    "uploader2 = widgets.FileUpload()\n",
    "print(\"Upload an image containing a dog\")\n",
    "uploader2"
   ]
  },
  {
   "cell_type": "code",
   "execution_count": null,
   "metadata": {
    "executionInfo": {
     "elapsed": 41,
     "status": "aborted",
     "timestamp": 1702405014378,
     "user": {
      "displayName": "Arthur C.",
      "userId": "18023806256318143056"
     },
     "user_tz": 180
    },
    "id": "NO3BwT2IzJwo"
   },
   "outputs": [],
   "source": [
    "img2 = fst.PILImage.create(uploader2.data[0])\n",
    "img2.to_thumb(400)"
   ]
  },
  {
   "cell_type": "code",
   "execution_count": null,
   "metadata": {
    "executionInfo": {
     "elapsed": 40,
     "status": "aborted",
     "timestamp": 1702405014378,
     "user": {
      "displayName": "Arthur C.",
      "userId": "18023806256318143056"
     },
     "user_tz": 180
    },
    "id": "0_2jbLPhzQ-0"
   },
   "outputs": [],
   "source": [
    "is_cat, _, probs = learn.predict(img2)\n",
    "print(f\"Is this a cat?: {is_cat}.\")\n",
    "print(f\"Probability of being a cat: {100* probs[1].item():.6f}%\")"
   ]
  },
  {
   "cell_type": "markdown",
   "metadata": {
    "id": "-7OKHlKeDBsW"
   },
   "source": [
    "We then have a neural network trained to distinguish images of dogs from images of cats with significantly high accuracy. This is one of the best-known applications of what we call “computer vision”.\n",
    "\n",
    "The machine learning model adopted in this exercise is called *Transfer Learning*, and it is highly powerful. It basically consists of taking a pre-trained neural network (in this case ResNet34) and re-training it to perform a specific function (in this case distinguishing images of dogs from images of cats) from a new dataset (in this case the 7390 images of dogs and cats provided).\n",
    "\n",
    "Our aim in presenting this exercise is to offer a new tool for various applications. We invite you to modify the original parameters of this notebook (such as the number of epochs, the size of the validation set, etc.) to see the consequences of each change.\n",
    "\n",
    "Subsequently, you can also provide a new dataset to train the network to perform a new function, such as distinguishing whales from dolphins, motorcycles from cars, x-rays from broken bones from intact ones, etc."
   ]
  },
  {
   "cell_type": "markdown",
   "metadata": {
    "id": "AFBp-rFJxgKS"
   },
   "source": [
    "## 2 CNN for binary image classification\n",
    "\n",
    "Now immersed in the problem of distinguishing between dog breeds, we will implement another convolutional neural network to identify two dog breeds, now using the Pytorch library. This library has already been presented to you in Programming Challenge 3, and will now be explored in more depth.\n",
    "\n",
    "We'll use the following modules necessary for **building** the neural network, remembering that they were already imported at the start of the Jupyter Notebook.\n",
    "\n",
    "* The `torch` library;\n",
    "* `transforms` from the `torchvision.transforms` module;\n",
    "* `ImageFolder` from the `torchvision.datasets` module;\n",
    "* `DataLoader` and `random_split` from the `torch.utils.data` module."
   ]
  },
  {
   "cell_type": "markdown",
   "metadata": {
    "id": "zjK6ClFMz_gh"
   },
   "source": [
    "In addition to PyTorch, you'll notice that we've also imported some elements from the torchvision library. In fact, although it is imported separately, torchvision is part of Pytorch and is nothing more than a library that allows us to import pre-trained models and classic datasets that have already been assembled, as well as providing tools to help structure the data that will be used in the neural network in question. In this activity, we will only use torchvision to organize our data which will be inserted into the neural network we will also create."
   ]
  },
  {
   "cell_type": "markdown",
   "metadata": {
    "id": "t2HGouAf1GI7"
   },
   "source": [
    "### 2.1 Dataset processing\n",
    "\n",
    "The data to be used has already been downloaded into the “Data” folder and will be imported into the data variable in the cell below."
   ]
  },
  {
   "cell_type": "code",
   "execution_count": 44,
   "metadata": {
    "executionInfo": {
     "elapsed": 10,
     "status": "ok",
     "timestamp": 1702405043730,
     "user": {
      "displayName": "Arthur C.",
      "userId": "18023806256318143056"
     },
     "user_tz": 180
    },
    "id": "123ut5y_4XyU"
   },
   "outputs": [],
   "source": [
    "transform = transforms.Compose([transforms.Resize((224, 224)), transforms.ToTensor()])\n",
    "data = ImageFolder(\"data/Duas\", transform=transform)"
   ]
  },
  {
   "cell_type": "markdown",
   "metadata": {
    "id": "eN8nqD5v4vbB"
   },
   "source": [
    "The first line of the cell above defines the `transform` variable using the `transforms.Compose` function, which performs a composition of all the transformations that are within the list that is passed as its only parameter. In this case, the only two transformations are resizing the image to 224 pixels (`transforms.Resize(224)`) and transforming this image into a tensor (`transforms.ToTensor()`). Please note that the number 224 was just a standard adopted, but other values are also valid. To access other transformations provided by this library, [click on this link](https://pytorch.org/docs/stable/torchvision/transforms.html).\n",
    "\n",
    "Next, we use the `ImageFolder` function to collect the images in the directory passed as a parameter and save them in a dataset. For this function to work, we must separate our examples into folders whose names will be used as the labels of the images inside their respective folders.\n",
    "\n",
    "Once the dataset has been imported, we can see the size of the dataset.\n",
    "\n",
    "We will now split the training and test datasets. The division will initially be as follows:\n",
    "\n",
    "- Training dataset: will consist of approximately 75% of the data.\n",
    "- Test dataset: the rest of the data.\n",
    "\n",
    "To perform the division, we will use the `random_split()` function. Note that we will ensure reproducibility by using the same technique as in section 1.2 of this task, specifying a `seed` value (in this case, 42)."
   ]
  },
  {
   "cell_type": "code",
   "execution_count": null,
   "metadata": {
    "colab": {
     "base_uri": "https://localhost:8080/"
    },
    "executionInfo": {
     "elapsed": 9,
     "status": "ok",
     "timestamp": 1702405043730,
     "user": {
      "displayName": "Arthur C.",
      "userId": "18023806256318143056"
     },
     "user_tz": 180
    },
    "id": "hoaWnZR9WX7r",
    "outputId": "1d1aa5e4-4b74-4bc0-9c5d-262c3bdda862"
   },
   "outputs": [],
   "source": [
    "print(\"Total images in the dataset:\", len(data))\n",
    "percentage = 75\n",
    "n_treino = round(len(data) * (percentage / 100))\n",
    "n_teste = round(len(data) * (100 - percentage) / (2 * 100))\n",
    "n_valid = len(data) - n_treino - n_teste\n",
    "\n",
    "print(\n",
    "    \"Number of images for training: {:}\".format(n_treino)\n",
    "    + \"; Number of test images: {:}\".format(n_teste)\n",
    "    + \"; Number of images for validation: {:}\".format(n_valid)\n",
    "    + \".\"\n",
    ")\n",
    "data_train, data_test, data_valid = random_split(\n",
    "    data, [n_treino, n_teste, n_valid], generator=torch.Generator().manual_seed(42)\n",
    ")\n",
    "\n",
    "batch_size = 20\n",
    "loader_train, loader_test, loader_valid = (\n",
    "    DataLoader(data_train, batch_size=batch_size),\n",
    "    DataLoader(data_test, batch_size=1),\n",
    "    DataLoader(data_valid, batch_size=1),\n",
    ")"
   ]
  },
  {
   "cell_type": "markdown",
   "metadata": {
    "id": "aBwoaPzT6wmR"
   },
   "source": [
    "Note that we have used the `round()` function to prevent multiplication from resulting in a non-integer number, rounding to the nearest integer.\n",
    "\n",
    "See also the creation of the training and test *dataloaders* using the `DataLoader` functionality. This is important so that we can combine examples and labels in iterations, as well as dividing the training data into *batches*.\n",
    "\n",
    "We chose the initial *batch_size* value of 20, but the choice of this value is not rigid and there is no ready-made formula for it. Therefore, as soon as we finalize our neural network, we recommend that you modify the value of this parameter and see what changes occur in the training and testing process."
   ]
  },
  {
   "cell_type": "markdown",
   "metadata": {
    "id": "c9p9aU6sNFXS"
   },
   "source": [
    "### 2.2 Assembling a Neural Network with PyTorch\n",
    "\n",
    "We will now set up the neural network that will be used for classification. The network will be structured as follows:"
   ]
  },
  {
   "cell_type": "markdown",
   "metadata": {
    "id": "_ziXAtDf-8DP"
   },
   "source": [
    "#### *Input Layer*\n",
    "\n",
    "- One layer:\n",
    "  - Layer with 3 input channels, 224x224 each.\n",
    "\n",
    "#### *Feature Mapping Layers*\n",
    "\n",
    "- Three sets of  convolution/*pooling*, totaling six layers; All layers will have the same filter:\n",
    "  - **Convolutional filter:** *kernel size* of 4x4, *stride* equal to 2 and *padding* equal to 1.\n",
    "  -   Pooling filter:** *kernel size* of 2x2 and *stride* equal to 2.\n",
    "\n",
    "- First set:\n",
    "  - The first convolution layer should have 3 input channels and 8 output channels, resulting in 8 channels of dimension 112x112;\n",
    "  - The first *pooling* layer will reduce the size of each channel to 56x56;\n",
    "    \n",
    "- Second set:\n",
    "  - The second convolution layer should have 8 input channels and 16 output channels, resulting in 16 channels of dimension 28x28;\n",
    "  - The second *pooling* layer will reduce the dimension of each channel to 16x16;\n",
    "   \n",
    "- Third set:\n",
    "  - The third convolution layer should have 16 input channels and 32 output channels, resulting in 32 channels of dimension 8x8;\n",
    "  - The third *pooling* layer will reduce the size of each channel to 4x4;\n",
    "  \n",
    "#### *Fully Connected Layers*\n",
    "\n",
    "- Three layers:\n",
    "  - The first layer must have 512 *hidden units*;\n",
    "  - The second layer must have 128 *hidden units*.\n",
    "  - The third layer must have 16 *hidden units* .\n",
    "\n",
    "#### *Output Layer*\n",
    "\n",
    "- One layer:\n",
    "  - Layer with 2 *outputs*\n"
   ]
  },
  {
   "cell_type": "markdown",
   "metadata": {
    "id": "Wp9EREvh_B3i"
   },
   "source": [
    "The above architecture is illustrated in the diagram below:\n",
    "\n",
    "![image.png](data:image/png;base64,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)"
   ]
  },
  {
   "cell_type": "code",
   "execution_count": 46,
   "metadata": {
    "executionInfo": {
     "elapsed": 799,
     "status": "ok",
     "timestamp": 1702405044523,
     "user": {
      "displayName": "Arthur C.",
      "userId": "18023806256318143056"
     },
     "user_tz": 180
    },
    "id": "gQKWKEX7CZaW"
   },
   "outputs": [],
   "source": [
    "class NN_CNN(torch.nn.Module):\n",
    "    def __init__(self, altura_imagem, largura_imagem, n_layer=3):\n",
    "        super(NN_CNN, self).__init__()\n",
    "        self.kernel_size_conv = 4\n",
    "        self.stride_conv = 2\n",
    "        self.padding_conv = 1\n",
    "        self.dilation_conv = 1\n",
    "\n",
    "        self.kernel_size_pool = 2\n",
    "        self.stride_pool = 2\n",
    "        self.padding_pool = 1\n",
    "        self.dilation_pool = 1\n",
    "\n",
    "        self.altura_imagem = altura_imagem\n",
    "        self.largura_imagem = largura_imagem\n",
    "\n",
    "        self.layer1 = torch.nn.Sequential(\n",
    "            torch.nn.Conv2d(\n",
    "                in_channels=3,\n",
    "                out_channels=8,\n",
    "                kernel_size=self.kernel_size_conv,\n",
    "                stride=self.stride_conv,\n",
    "                padding=self.padding_conv,\n",
    "                dilation=self.dilation_conv,\n",
    "            ),\n",
    "            torch.nn.ReLU(),\n",
    "            torch.nn.MaxPool2d(\n",
    "                kernel_size=self.kernel_size_pool,\n",
    "                stride=self.stride_pool,\n",
    "                padding=self.padding_pool,\n",
    "                dilation=self.dilation_pool,\n",
    "            ),\n",
    "        )\n",
    "\n",
    "        self.layer2 = 0\n",
    "        self.layer3 = 0\n",
    "\n",
    "        self.layer2 = torch.nn.Sequential(\n",
    "            torch.nn.Conv2d(\n",
    "                in_channels=8,\n",
    "                out_channels=16,\n",
    "                kernel_size=self.kernel_size_conv,\n",
    "                stride=self.stride_conv,\n",
    "                padding=self.padding_conv,\n",
    "                dilation=self.dilation_conv,\n",
    "            ),\n",
    "            torch.nn.ReLU(),\n",
    "            torch.nn.MaxPool2d(\n",
    "                kernel_size=self.kernel_size_pool,\n",
    "                stride=self.stride_pool,\n",
    "                padding=self.padding_pool,\n",
    "                dilation=self.dilation_pool,\n",
    "            ),\n",
    "        )\n",
    "\n",
    "        self.layer3 = torch.nn.Sequential(\n",
    "            torch.nn.Conv2d(\n",
    "                in_channels=16,\n",
    "                out_channels=32,\n",
    "                kernel_size=self.kernel_size_conv,\n",
    "                stride=self.stride_conv,\n",
    "                padding=self.padding_conv,\n",
    "                dilation=self.dilation_conv,\n",
    "            ),\n",
    "            torch.nn.ReLU(),\n",
    "            torch.nn.MaxPool2d(\n",
    "                kernel_size=self.kernel_size_pool,\n",
    "                stride=self.stride_pool,\n",
    "                padding=self.padding_pool,\n",
    "                dilation=self.dilation_pool,\n",
    "            ),\n",
    "        )\n",
    "\n",
    "        self.dicio = {}\n",
    "        self.dicio[0] = self.layer1\n",
    "        self.dicio[1] = self.layer2\n",
    "        self.dicio[2] = self.layer3\n",
    "\n",
    "        self.size_list = [(altura_imagem, largura_imagem)]\n",
    "        self.num_list, self.patch_size_list = [], []\n",
    "        altura, largura = altura_imagem, largura_imagem\n",
    "        for n in range(n_layer):\n",
    "            self.conv_altura = (\n",
    "                1\n",
    "                + (\n",
    "                    altura\n",
    "                    + 2 * self.padding_conv\n",
    "                    - self.dilation_conv * (self.kernel_size_conv - 1)\n",
    "                    - 1\n",
    "                )\n",
    "                // self.stride_conv\n",
    "            )\n",
    "            self.conv_largura = (\n",
    "                1\n",
    "                + (\n",
    "                    largura\n",
    "                    + 2 * self.padding_conv\n",
    "                    - self.dilation_conv * (self.kernel_size_conv - 1)\n",
    "                    - 1\n",
    "                )\n",
    "                // self.stride_conv\n",
    "            )\n",
    "            altura = (\n",
    "                1\n",
    "                + (\n",
    "                    self.conv_altura\n",
    "                    + 2 * self.padding_pool\n",
    "                    - self.dilation_pool * (self.kernel_size_pool - 1)\n",
    "                    - 1\n",
    "                )\n",
    "                // self.stride_pool\n",
    "            )\n",
    "            largura = (\n",
    "                1\n",
    "                + (\n",
    "                    self.conv_largura\n",
    "                    + 2 * self.padding_pool\n",
    "                    - self.dilation_pool * (self.kernel_size_pool - 1)\n",
    "                    - 1\n",
    "                )\n",
    "                // self.stride_pool\n",
    "            )\n",
    "\n",
    "            self.size_list.append((self.conv_largura, self.conv_altura))\n",
    "            self.num_list.append(self.dicio[n][0].in_channels)\n",
    "            self.size_list.append((altura, largura))\n",
    "            self.num_list.append(self.dicio[n][0].out_channels)\n",
    "            self.patch_size_list.append((self.kernel_size_conv, self.kernel_size_conv))\n",
    "            self.patch_size_list.append((self.kernel_size_pool, self.kernel_size_pool))\n",
    "\n",
    "        self.num_list.append(self.num_list[-1])\n",
    "\n",
    "        self.fc1 = torch.nn.Linear(32 * 4 * 4, 128)\n",
    "        self.fc2 = torch.nn.Linear(128, 16)\n",
    "        self.fc3 = torch.nn.Linear(16, 2)\n",
    "\n",
    "        self.num_fc_list = []\n",
    "        self.num_fc_list.append(self.fc1.in_features)\n",
    "        self.num_fc_list.append(self.fc2.in_features)\n",
    "        self.num_fc_list.append(self.fc3.in_features)\n",
    "        self.num_fc_list.append(self.fc3.out_features)"
   ]
  },
  {
   "cell_type": "markdown",
   "metadata": {
    "id": "mbBHNbIpZ-iw"
   },
   "source": [
    "With the structure of our neural network set up, we will use the `cria_imagem()` function provided in the `utils` file to produce an image with the layout of the neural network built in the cell above. If the structure seen in the image is different from the one shown above, there is probably an error in the implementation of the upper cell."
   ]
  },
  {
   "cell_type": "code",
   "execution_count": null,
   "metadata": {
    "colab": {
     "base_uri": "https://localhost:8080/",
     "height": 769
    },
    "executionInfo": {
     "elapsed": 13,
     "status": "ok",
     "timestamp": 1702405044524,
     "user": {
      "displayName": "Arthur C.",
      "userId": "18023806256318143056"
     },
     "user_tz": 180
    },
    "id": "IKt4TTJ_W1ym",
    "outputId": "863739d3-8086-472e-fb9b-a541b2cfd13a"
   },
   "outputs": [],
   "source": [
    "model = NN_CNN(224, 224)\n",
    "utils.cria_imagem(model)\n",
    "model"
   ]
  },
  {
   "cell_type": "markdown",
   "metadata": {
    "id": "sxz9roWApooM"
   },
   "source": [
    "With the network built, we must implement the `forward()` function, which will take as input an image of 3 channels, each 224x224 in size, pass this image through the 3 sets of layers of the neural network and then pass the result through the three *fully connected* layers. This result must be saved in the `out` variable, which is returned at the end of the function."
   ]
  },
  {
   "cell_type": "code",
   "execution_count": 48,
   "metadata": {
    "executionInfo": {
     "elapsed": 10,
     "status": "ok",
     "timestamp": 1702405044524,
     "user": {
      "displayName": "Arthur C.",
      "userId": "18023806256318143056"
     },
     "user_tz": 180
    },
    "id": "5X2geVMMorH6"
   },
   "outputs": [],
   "source": [
    "def forward(self, x):\n",
    "    x = self.layer1(x)\n",
    "    x = self.layer2(x)\n",
    "    x = self.layer3(x)\n",
    "    x = torch.flatten(x, 1)\n",
    "    x = torch.relu(self.fc1(x))\n",
    "    x = torch.relu(self.fc2(x))\n",
    "    out = self.fc3(x)\n",
    "    return out"
   ]
  },
  {
   "cell_type": "markdown",
   "metadata": {
    "id": "DZRLHb1PsQGt"
   },
   "source": [
    "With the function ready, we will instantiate the neural network in the `model` variable by executing the cell below and adding the `forward` function to it using the `types.MethodType()` function."
   ]
  },
  {
   "cell_type": "code",
   "execution_count": 49,
   "metadata": {
    "executionInfo": {
     "elapsed": 9,
     "status": "ok",
     "timestamp": 1702405044524,
     "user": {
      "displayName": "Arthur C.",
      "userId": "18023806256318143056"
     },
     "user_tz": 180
    },
    "id": "b7XJyc_3oySm"
   },
   "outputs": [],
   "source": [
    "model = NN_CNN(altura_imagem=224, largura_imagem=224).to(device)\n",
    "\n",
    "import types\n",
    "\n",
    "model.forward = types.MethodType(forward, model)"
   ]
  },
  {
   "cell_type": "markdown",
   "metadata": {
    "id": "0KnhPNmssuY5"
   },
   "source": [
    "With the neural network correctly configured and the `forward()` function properly implemented, we can train and test our function.\n",
    "\n",
    "Notice that the model variable that was loaded into the cell above is not loaded again into the cell below. This means that the variables used in the cell below are not reloaded each time the cell is executed, allowing the same model to be trained and tested for more times, starting from where it left off. If you want to restart the process, training a model from scratch by resetting the `model` variable, run the cell above."
   ]
  },
  {
   "cell_type": "code",
   "execution_count": null,
   "metadata": {
    "colab": {
     "base_uri": "https://localhost:8080/"
    },
    "executionInfo": {
     "elapsed": 70208,
     "status": "ok",
     "timestamp": 1702405114722,
     "user": {
      "displayName": "Arthur C.",
      "userId": "18023806256318143056"
     },
     "user_tz": 180
    },
    "id": "MwTEDjE3BRKC",
    "outputId": "55e350a9-00f6-4c59-bb10-0ce5cc138a60"
   },
   "outputs": [],
   "source": [
    "epochs = 30\n",
    "lr = 0.0025\n",
    "\n",
    "criterion = torch.nn.CrossEntropyLoss().to(device)\n",
    "optimizer = torch.optim.AdamW(model.parameters(), lr=lr)\n",
    "\n",
    "list_train_loss = []\n",
    "list_test_loss = []\n",
    "list_acc = []\n",
    "for epoch in range(1, epochs + 1):\n",
    "    model.train()\n",
    "    for imagem_treino, label_treino in loader_train:\n",
    "        imagem_treino, label_treino = imagem_treino.float().to(device), label_treino.to(\n",
    "            device\n",
    "        )\n",
    "        outputs = model(imagem_treino)\n",
    "        outputs = torch.log_softmax(outputs, dim=1)\n",
    "        loss = criterion(outputs, label_treino.float().long())\n",
    "\n",
    "        optimizer.zero_grad()\n",
    "        loss.backward()\n",
    "        optimizer.step()\n",
    "    list_train_loss.append(loss.item())\n",
    "\n",
    "    correct = 0\n",
    "    total = 0\n",
    "    model.eval()\n",
    "    for imagem_teste, label_teste in loader_test:\n",
    "        imagem_teste, label_teste = imagem_teste.float().to(device), label_teste.to(\n",
    "            device\n",
    "        )\n",
    "        outputs_test = model(imagem_teste)\n",
    "        outputs_test = torch.log_softmax(outputs_test, dim=1)\n",
    "        _, previsao = torch.max(outputs_test, dim=1)\n",
    "        loss_test = criterion(outputs_test, label_teste.long())\n",
    "        total = total + 1\n",
    "        if previsao == label_teste:\n",
    "            correct = correct + 1\n",
    "    list_test_loss.append(loss_test.item())\n",
    "\n",
    "    acc = (correct / total) * 100\n",
    "    list_acc.append(acc)\n",
    "\n",
    "    print(\n",
    "        \"epoch:\",\n",
    "        epoch,\n",
    "        \" loss: {:.4f}\".format(loss.item()),\n",
    "        \" Accuracy: {:.2f}\".format(acc),\n",
    "    )"
   ]
  },
  {
   "cell_type": "markdown",
   "metadata": {
    "id": "FIff2-QbXo0W"
   },
   "source": [
    "By training and testing our model, we can analyze the behavior of cost and accuracy over time."
   ]
  },
  {
   "cell_type": "code",
   "execution_count": null,
   "metadata": {
    "colab": {
     "base_uri": "https://localhost:8080/",
     "height": 676
    },
    "executionInfo": {
     "elapsed": 784,
     "status": "ok",
     "timestamp": 1702405115466,
     "user": {
      "displayName": "Arthur C.",
      "userId": "18023806256318143056"
     },
     "user_tz": 180
    },
    "id": "PY3LxUEyWNw_",
    "outputId": "8122231a-5930-477a-a4ae-ac2bcead18e7"
   },
   "outputs": [],
   "source": [
    "fig, axs = pyplot.subplots(2, figsize=(15, 8))\n",
    "axs[0].plot(list_train_loss, label=\"Train loss\")\n",
    "axs[0].plot(list_test_loss, label=\"Test loss\")\n",
    "axs[0].set_title(\"Losses x Epochs\")\n",
    "axs[0].set(xlabel=\"Epochs\")\n",
    "axs[0].set(ylabel=\"Losses\")\n",
    "axs[0].legend()\n",
    "axs[0].grid(True)\n",
    "\n",
    "\n",
    "axs[1].plot(list_acc, label=\"Accuracy\")\n",
    "axs[1].set_title(\"Accuracy x epochs\")\n",
    "axs[1].set(xlabel=\"Epochs\")\n",
    "axs[1].set(ylabel=\"Accuracy (%)\")\n",
    "axs[1].legend(loc=\"lower right\")\n",
    "axs[1].grid(True)\n",
    "\n",
    "pyplot.tight_layout()"
   ]
  },
  {
   "cell_type": "markdown",
   "metadata": {
    "id": "gzxPVdXBu9HW"
   },
   "source": [
    "We suggest modifying the parameters used to train the network. The values to be tested are as follows (in that order):\n",
    "\n",
    "  a) *Batch Size* (variable `batch_size`): [10, 50, 100, 500];\n",
    "  \n",
    "  b) Percentage *Training_Set*/*Full_dataset* (variable `percentage`): [70, 80, 90].\n",
    "\n",
    "  c) *Learning Rate* (variable `lr`): [0.0005, 0.001, 0.005, 0.01, 0.05];\n",
    "\n",
    "  d) *Epochs* (variable `epochs`): [5, 20, 40, 60].\n",
    "\n",
    "To do this, please follow these instructions:\n",
    "\n",
    "1. modify only one of the parameters under test, leaving the others with their values *defaults*.\n",
    "\n",
    "2. Assign the requested values to the parameter under test, respecting the designated order.\n",
    "\n",
    "3. Rerun all the cells starting from the one that was changed, with the value of the parameter under test modified. Remember to reset your `model` variable.\n",
    "\n",
    "4. Note the differences in execution time and accuracy.\n",
    "\n",
    "5. Repeat the procedure with the next value (or the next parameter) to be tested.\n",
    "\n",
    "6. When all the tests are finished, assign the *default* values back to the modified parameters.\n"
   ]
  },
  {
   "cell_type": "markdown",
   "metadata": {
    "id": "nNudyzxcVg4w"
   },
   "source": [
    "### 2.3 Importing a pre-trained network\n",
    "\n",
    "In the previous activity we implemented a CNN that could distinguish images of dog breeds. Now, we're going to look at the same problem, but we'll do it with other tools.\n",
    "\n",
    "In the previous task, we entirely created the structure of the CNN. Now, we will use the concept of Transfer Learning, importing the pre-trained ResNet18 Neural Network to do the classification in question.\n",
    "\n",
    "The aim is to compare the gains and losses that this technique brings us in solving this problem."
   ]
  },
  {
   "cell_type": "markdown",
   "metadata": {
    "id": "2MLM8zPJWqPH"
   },
   "source": [
    "With the data loaded into the `data` variable from the previous activity, we will divide the dataset into training and test portions."
   ]
  },
  {
   "cell_type": "markdown",
   "metadata": {
    "id": "q-52aDXqXlpD"
   },
   "source": [
    "Unlike the last task, we will not create our own neural network model. This time, we will import a pre-trained model, in this case the one chosen was `ResNet18` because of its simplicity and efficiency.\n",
    "\n",
    "To do this, we will use the `models` module of the `torchvision` library by executing the cell below. This module provides several pre-trained neural networks of different types.\n",
    "\n",
    "As said, the one chosen was a ResNet, specifically `Resnet18`. Of all the ResNets available, this is the one with the simplest structure, and therefore requires the least memory and time for training and testing."
   ]
  },
  {
   "cell_type": "code",
   "execution_count": null,
   "metadata": {
    "colab": {
     "base_uri": "https://localhost:8080/"
    },
    "executionInfo": {
     "elapsed": 327,
     "status": "ok",
     "timestamp": 1702405115750,
     "user": {
      "displayName": "Arthur C.",
      "userId": "18023806256318143056"
     },
     "user_tz": 180
    },
    "id": "UjFwUrNtXpYn",
    "outputId": "a36a0d96-9265-44b4-9871-89668a7b7587"
   },
   "outputs": [],
   "source": [
    "model = models.resnet18(pretrained=True)"
   ]
  },
  {
   "cell_type": "markdown",
   "metadata": {
    "id": "ZRlN_a0mXrnk"
   },
   "source": [
    "To see the structure of the chosen network, we'll run the cell below."
   ]
  },
  {
   "cell_type": "code",
   "execution_count": null,
   "metadata": {
    "colab": {
     "base_uri": "https://localhost:8080/"
    },
    "executionInfo": {
     "elapsed": 21,
     "status": "ok",
     "timestamp": 1702405115751,
     "user": {
      "displayName": "Arthur C.",
      "userId": "18023806256318143056"
     },
     "user_tz": 180
    },
    "id": "4Mn49h97X02Q",
    "outputId": "57263773-ebf0-4750-de5a-d589b06d33ac"
   },
   "outputs": [],
   "source": [
    "model"
   ]
  },
  {
   "cell_type": "markdown",
   "metadata": {
    "id": "bhO3MwmkX6yK"
   },
   "source": [
    "Transfer learning is a technique that allows us to use a network whose parameters have already been trained using large and diverse datasets. However, the structure of the network does not always fit the context in which we are going to use it. For example, the *output* layer of ResNet18 has a thousand units but, for our problem, we only need two output units.\n",
    "\n",
    "To solve this, we can modify the network layers as we wish. For this example, we are only interested in modifying the last layers of the network, called *fully connected layers* (or `fc`).\n",
    "\n",
    "Before making any changes to the network architecture, we can disable the Pytorch functionality that automatically calculates the gradients of the network parameters. We'll do this because we don't want to update the parameters of the convolutional part of the network, as they will be “frozen” for this application. This is not strictly necessary, but it reduces the computational cost of the algorithm and saves us a lot of time.\n",
    "\n",
    "Note: as we changed the last layers of the network **after** deactivating the gradient calculation for the network parameters, the new parameters enter with the gradient calculation activated by *default* from Pytorch, allowing us to train them next."
   ]
  },
  {
   "cell_type": "code",
   "execution_count": 54,
   "metadata": {
    "executionInfo": {
     "elapsed": 15,
     "status": "ok",
     "timestamp": 1702405115751,
     "user": {
      "displayName": "Arthur C.",
      "userId": "18023806256318143056"
     },
     "user_tz": 180
    },
    "id": "aTwAxwNgX19b"
   },
   "outputs": [],
   "source": [
    "# Freeze our model parameters\n",
    "for param in model.parameters():\n",
    "    param.requires_grad = False\n",
    "\n",
    "# Change the architecture of the classifier portion of the CNN\n",
    "classifier = nn.Sequential(\n",
    "    nn.Linear(512, 128),\n",
    "    nn.ReLU(),\n",
    "    nn.Dropout(p=0.2),\n",
    "    nn.Linear(128, 2),\n",
    "    nn.LogSoftmax(dim=1),\n",
    ")\n",
    "\n",
    "model.fc = classifier"
   ]
  },
  {
   "cell_type": "markdown",
   "metadata": {
    "id": "_aOusHRcYEYL"
   },
   "source": [
    "As explained, we only changed the fully connected portion of the network, which is responsible for classifying the examples. The convolutional layers, which are responsible for feature extraction from the inputs, have been left “frozen”. To visualize the new network architecture, we'll run the cell below."
   ]
  },
  {
   "cell_type": "code",
   "execution_count": null,
   "metadata": {
    "colab": {
     "base_uri": "https://localhost:8080/"
    },
    "executionInfo": {
     "elapsed": 14,
     "status": "ok",
     "timestamp": 1702405115751,
     "user": {
      "displayName": "Arthur C.",
      "userId": "18023806256318143056"
     },
     "user_tz": 180
    },
    "id": "Hi9n-lsXYKZb",
    "outputId": "6820205a-c400-4714-ca79-a9ae1b53f8fb"
   },
   "outputs": [],
   "source": [
    "model"
   ]
  },
  {
   "cell_type": "markdown",
   "metadata": {
    "id": "vLHnrXkcYHR-"
   },
   "source": [
    "We then define some important parameters for training the network, and initialize some variables that we will use during training.\n",
    "\n",
    "These parameters were chosen after some tests we carried out and were the ones that gave the best results when training the network."
   ]
  },
  {
   "cell_type": "code",
   "execution_count": 56,
   "metadata": {
    "executionInfo": {
     "elapsed": 8,
     "status": "ok",
     "timestamp": 1702405115751,
     "user": {
      "displayName": "Arthur C.",
      "userId": "18023806256318143056"
     },
     "user_tz": 180
    },
    "id": "BWwsj4FlYNig"
   },
   "outputs": [],
   "source": [
    "epochs = 5\n",
    "lr = 0.001\n",
    "\n",
    "criterion = nn.NLLLoss()\n",
    "\n",
    "optimizer = torch.optim.AdamW(model.fc.parameters(), lr=lr)\n",
    "\n",
    "list_train_loss = []\n",
    "list_test_loss = []\n",
    "list_acc = []\n",
    "\n",
    "model = model.to(device)"
   ]
  },
  {
   "cell_type": "markdown",
   "metadata": {
    "id": "kD3Eqa8BYOTs"
   },
   "source": [
    "Note that we chose the *Adaptive Moment Estimation with Decoupled Weight Decay* (AdamW) algorithm as the optimizer. This optimizer is an alternative to the classic *Gradient Descent*, only much more robust and effective (in most cases), as it implements techniques such as momentum and RMSprop. We then move on to training and testing the network."
   ]
  },
  {
   "cell_type": "code",
   "execution_count": null,
   "metadata": {
    "colab": {
     "base_uri": "https://localhost:8080/"
    },
    "executionInfo": {
     "elapsed": 13081,
     "status": "ok",
     "timestamp": 1702405128826,
     "user": {
      "displayName": "Arthur C.",
      "userId": "18023806256318143056"
     },
     "user_tz": 180
    },
    "id": "vdKnViRjYXn_",
    "outputId": "24a7caaf-da82-4b38-b93f-d3ac3cc4816c"
   },
   "outputs": [],
   "source": [
    "START = time.time()\n",
    "\n",
    "for epoch in range(1, epochs + 1):\n",
    "    start = time.time()\n",
    "\n",
    "    model.train()\n",
    "    loss_train = 0\n",
    "\n",
    "    for imagem_treino, label_treino in loader_train:\n",
    "\n",
    "        loss = 0\n",
    "\n",
    "        imagem_treino, label_treino = imagem_treino.float().to(device), label_treino.to(\n",
    "            device\n",
    "        )\n",
    "        outputs = model(imagem_treino)\n",
    "        loss = criterion(outputs, label_treino.float().long())\n",
    "\n",
    "        optimizer.zero_grad()\n",
    "        loss.backward()\n",
    "        optimizer.step()\n",
    "        loss_train += loss\n",
    "\n",
    "    loss_train = loss_train / len(loader_train)\n",
    "    list_train_loss.append(loss_train.item())\n",
    "\n",
    "    model.eval()\n",
    "    correct = 0\n",
    "    total = 0\n",
    "    loss_test = 0\n",
    "\n",
    "    with torch.no_grad():\n",
    "        for imagem_teste, label_teste in loader_test:\n",
    "\n",
    "            imagem_teste, label_teste = imagem_teste.float().to(device), label_teste.to(\n",
    "                device\n",
    "            )\n",
    "            outputs_test = model(imagem_teste)\n",
    "\n",
    "            _, previsao = torch.max(outputs_test, dim=1)\n",
    "            loss_test += criterion(outputs_test, label_teste.long())\n",
    "            total = total + 1\n",
    "\n",
    "            if previsao == label_teste:\n",
    "                correct = correct + 1\n",
    "\n",
    "        loss_test = loss_test / len(loader_test)\n",
    "        list_test_loss.append(loss_test.item())\n",
    "\n",
    "    acc = (correct / total) * 100\n",
    "    list_acc.append(acc)\n",
    "\n",
    "    end = time.time()\n",
    "    Time = end - start\n",
    "\n",
    "    if epoch < 10:\n",
    "        print(\n",
    "            \"Epoch: \",\n",
    "            epoch,\n",
    "            \" loss: {:.4f}\".format(loss_test.item()),\n",
    "            \" Accuracy: {:.2f}\".format(acc),\n",
    "            \" Time spent this epoch: {:.2f}\".format(Time),\n",
    "            \"seconds.\",\n",
    "        )\n",
    "    else:\n",
    "        print(\n",
    "            \"Epoch:\",\n",
    "            epoch,\n",
    "            \" loss: {:.4f}\".format(loss_test.item()),\n",
    "            \" Accuracy: {:.2f}\".format(acc),\n",
    "            \" Time spent this epoch: {:.2f}\".format(Time),\n",
    "            \"seconds.\",\n",
    "        )\n",
    "\n",
    "END = time.time()\n",
    "\n",
    "print()\n",
    "TIME = END - START\n",
    "print(\"\\n Time spent during training: {:.2f}\".format(TIME), \"seconds\")"
   ]
  },
  {
   "cell_type": "markdown",
   "metadata": {
    "id": "6ocMeI-rYkum"
   },
   "source": [
    "Having completed the training, we then move on to analyzing the results.\n",
    "\n",
    "The cell below plots the training and test error curves by season. A good analysis of these curves can give us information about the suitability of the model for the proposed problem: *overfitting*, *underfitting* or adequate."
   ]
  },
  {
   "cell_type": "code",
   "execution_count": null,
   "metadata": {
    "colab": {
     "base_uri": "https://localhost:8080/",
     "height": 676
    },
    "executionInfo": {
     "elapsed": 770,
     "status": "ok",
     "timestamp": 1702405129586,
     "user": {
      "displayName": "Arthur C.",
      "userId": "18023806256318143056"
     },
     "user_tz": 180
    },
    "id": "eDurDMJGY0jo",
    "outputId": "6cdb7302-1547-41d6-9deb-d16c47663082"
   },
   "outputs": [],
   "source": [
    "fig, axs = pyplot.subplots(2, figsize=(15, 8))\n",
    "axs[0].plot(range(1, epochs + 1, 1), list_train_loss[:epochs], label=\"Train loss\")\n",
    "axs[0].plot(range(1, epochs + 1, 1), list_test_loss, label=\"Test loss\")\n",
    "axs[0].set(xticks=range(1, epochs + 1, 1))\n",
    "axs[0].set_title(\"Losses x Epochs\")\n",
    "axs[0].set(xlabel=\"Epochs\")\n",
    "axs[0].set(ylabel=\"Losses\")\n",
    "axs[0].legend()\n",
    "axs[0].grid(True)\n",
    "\n",
    "\n",
    "axs[1].plot(range(1, epochs + 1, 1), list_acc, label=\"Accuracy\")\n",
    "axs[1].set(xticks=range(1, epochs + 1, 1))\n",
    "axs[1].set_title(\"Accuracy x epochs\")\n",
    "axs[1].set(xlabel=\"Epochs\")\n",
    "axs[1].set(ylabel=\"Accuracy (%)\")\n",
    "axs[1].legend(loc=\"lower right\")\n",
    "axs[1].grid(True)\n",
    "\n",
    "pyplot.tight_layout()"
   ]
  },
  {
   "cell_type": "markdown",
   "metadata": {
    "id": "0R30XViFY-X2"
   },
   "source": [
    "The cell below will tell us the classification accuracy of the network modeled on a *dataset* that was not “seen” by it in the training stage. This is important so that we have an unbiased result."
   ]
  },
  {
   "cell_type": "code",
   "execution_count": null,
   "metadata": {
    "colab": {
     "base_uri": "https://localhost:8080/"
    },
    "executionInfo": {
     "elapsed": 11642,
     "status": "ok",
     "timestamp": 1702405141216,
     "user": {
      "displayName": "Arthur C.",
      "userId": "18023806256318143056"
     },
     "user_tz": 180
    },
    "id": "FroYqjkIY96T",
    "outputId": "877c8d50-3dd2-48ee-8253-03274d373c26"
   },
   "outputs": [],
   "source": [
    "total = 0\n",
    "correct = 0\n",
    "loss_valid = 0\n",
    "\n",
    "for imagem_valid, label_valid in loader_valid:\n",
    "\n",
    "    loss_v = 0\n",
    "\n",
    "    imagem_valid, label_valid = imagem_valid.float().to(device), label_valid.to(device)\n",
    "    outputs_valid = model(imagem_valid)\n",
    "    _, previsao = torch.max(outputs_valid, dim=1)\n",
    "    loss_v = criterion(outputs_valid, label_valid.long())\n",
    "    total = total + 1\n",
    "    if previsao == label_valid:\n",
    "        correct = correct + 1\n",
    "    loss_valid += loss_v\n",
    "\n",
    "loss_valid = loss_valid / len(loader_valid)\n",
    "accuracy = (correct / total) * 100\n",
    "\n",
    "print(\"The accuracy obtained was: {:.2f}\".format(accuracy) + \"%.\")\n",
    "print()\n",
    "print(\"The average error obtained was: {:.4f}\".format(loss_valid) + \".\")\n",
    "print()\n",
    "print(\n",
    "    \"The time taken to train this network was: {:.2f}\".format(TIME),\n",
    "    \"seconds.\",\n",
    ")"
   ]
  },
  {
   "cell_type": "markdown",
   "metadata": {
    "id": "4o8WTEsoZIpp"
   },
   "source": [
    "## 3 Multi-label classification using Transfer Learning\n",
    "\n",
    "Now, we're going to use the same technique used earlier in this notebook to solve a different problem. Now, we want to classify different dog breeds from images. In other words, the number of possible *labels* has increased: from two to twelve (12 different dog breeds)."
   ]
  },
  {
   "cell_type": "markdown",
   "metadata": {
    "id": "MtjXPzdLZgv1"
   },
   "source": [
    "### 3.1 Dataset processing\n",
    "\n",
    "For this section, we can see from the cells below how it was done.\n",
    "\n",
    "The data to be used has already been downloaded into the “Multi” folder inside “Data” and will be imported into the data variable in the cell below."
   ]
  },
  {
   "cell_type": "code",
   "execution_count": 61,
   "metadata": {
    "executionInfo": {
     "elapsed": 4604,
     "status": "ok",
     "timestamp": 1702405145810,
     "user": {
      "displayName": "Arthur C.",
      "userId": "18023806256318143056"
     },
     "user_tz": 180
    },
    "id": "C-pYOH2ZZgFr"
   },
   "outputs": [],
   "source": [
    "transform = transforms.Compose([transforms.ToTensor(), transforms.Resize([256, 256])])\n",
    "\n",
    "data = ImageFolder(\"data/Multi\", transform=transform)"
   ]
  },
  {
   "cell_type": "markdown",
   "metadata": {
    "id": "appywhqVZ5MC"
   },
   "source": [
    "The integral dataset is divided into a training set, a test set and a validation set."
   ]
  },
  {
   "cell_type": "code",
   "execution_count": null,
   "metadata": {
    "colab": {
     "base_uri": "https://localhost:8080/"
    },
    "executionInfo": {
     "elapsed": 95,
     "status": "ok",
     "timestamp": 1702405145811,
     "user": {
      "displayName": "Arthur C.",
      "userId": "18023806256318143056"
     },
     "user_tz": 180
    },
    "id": "Wz3iC24UZ8Hr",
    "outputId": "48c56644-71f9-4f40-cca6-dfdcd97e3af6"
   },
   "outputs": [],
   "source": [
    "print(\"Total images in the dataset:\", len(data))\n",
    "\n",
    "percentage = 80\n",
    "\n",
    "n_treino = round(len(data) * (percentage / 100))\n",
    "\n",
    "\n",
    "n_teste = round(len(data) * (100 - percentage) / (2 * 100))\n",
    "n_valid = len(data) - n_treino - n_teste\n",
    "\n",
    "print(\n",
    "    \"Number of images for training: {:}\".format(n_treino)\n",
    "    + \"; Number of test images: {:}\".format(n_teste)\n",
    "    + \"; Number of images for validation: {:}\".format(n_valid)\n",
    "    + \".\"\n",
    ")\n",
    "data_train, data_test, data_valid = random_split(\n",
    "    data, [n_treino, n_teste, n_valid], generator=torch.Generator().manual_seed(42)\n",
    ")"
   ]
  },
  {
   "cell_type": "markdown",
   "metadata": {
    "id": "uAO2v04NaGPG"
   },
   "source": [
    "With the *dataset* split, we will now load the `loader_train`, `loader_test` and `loader_valid` variables, which are responsible for organizing the data for training, testing and validating the network, respectively."
   ]
  },
  {
   "cell_type": "code",
   "execution_count": 63,
   "metadata": {
    "executionInfo": {
     "elapsed": 84,
     "status": "ok",
     "timestamp": 1702405145812,
     "user": {
      "displayName": "Arthur C.",
      "userId": "18023806256318143056"
     },
     "user_tz": 180
    },
    "id": "QfMjqJrhaI7W"
   },
   "outputs": [],
   "source": [
    "batch_size = 32\n",
    "\n",
    "loader_train, loader_test, loader_valid = (\n",
    "    DataLoader(data_train, batch_size=batch_size),\n",
    "    DataLoader(data_test, batch_size=1),\n",
    "    DataLoader(data_valid, batch_size=1),\n",
    ")"
   ]
  },
  {
   "cell_type": "markdown",
   "metadata": {
    "id": "cd7-wkFpaPmY"
   },
   "source": [
    "### 3.2 Importing the pre-trained network and making adjustments\n",
    "\n",
    "With all the *DataLoaders* organized, we can structure the neural network that will classify breeds. You will be responsible for all the stages of structuring the neural network, from importing to training and testing. To begin with, we'll need to choose a pre-trained neural network to use. For the sake of experimentation, we'll choose ResNet34."
   ]
  },
  {
   "cell_type": "code",
   "execution_count": 64,
   "metadata": {
    "executionInfo": {
     "elapsed": 83,
     "status": "ok",
     "timestamp": 1702405145813,
     "user": {
      "displayName": "Arthur C.",
      "userId": "18023806256318143056"
     },
     "user_tz": 180
    },
    "id": "CfSAQ5goaVWd"
   },
   "outputs": [],
   "source": [
    "def importNN():\n",
    "    model = 0\n",
    "    classifier = 0\n",
    "    model = models.resnet34(weights=models.ResNet34_Weights.DEFAULT)\n",
    "    for param in model.parameters():\n",
    "        param.requires_grad = False\n",
    "\n",
    "    classifier = nn.Sequential(\n",
    "        nn.Linear(model.fc.in_features, 12),\n",
    "    )\n",
    "    model.fc = classifier\n",
    "    return model"
   ]
  },
  {
   "cell_type": "markdown",
   "metadata": {
    "id": "9rEALtVkaaI1"
   },
   "source": [
    "Now, we'll save our model in the model variable, passing it to the GPU."
   ]
  },
  {
   "cell_type": "code",
   "execution_count": 65,
   "metadata": {
    "executionInfo": {
     "elapsed": 553,
     "status": "ok",
     "timestamp": 1702405146286,
     "user": {
      "displayName": "Arthur C.",
      "userId": "18023806256318143056"
     },
     "user_tz": 180
    },
    "id": "3PLPUOI6acdH"
   },
   "outputs": [],
   "source": [
    "model = importNN().to(device)"
   ]
  },
  {
   "cell_type": "markdown",
   "metadata": {
    "id": "xjyx24uJaflK"
   },
   "source": [
    "With the model already instantiated, it is necessary to specify which cost function and optimization algorithm the network will use for training. The `define()` function below should do this using model and *learning rate* as inputs, and the latter should be selected when training the neural network."
   ]
  },
  {
   "cell_type": "code",
   "execution_count": 66,
   "metadata": {
    "executionInfo": {
     "elapsed": 18,
     "status": "ok",
     "timestamp": 1702405146288,
     "user": {
      "displayName": "Arthur C.",
      "userId": "18023806256318143056"
     },
     "user_tz": 180
    },
    "id": "W-J08NaUae2I"
   },
   "outputs": [],
   "source": [
    "def define(model, lr):\n",
    "    optimizer = optim.Adam(model.parameters(), lr=lr, weight_decay=1e-3)\n",
    "    criterion = nn.CrossEntropyLoss()\n",
    "    return optimizer, criterion"
   ]
  },
  {
   "cell_type": "markdown",
   "metadata": {
    "id": "BwrsGiQqakPE"
   },
   "source": [
    "Now we will define the function that will train and test this neural network. This function will be run every epoch, so it must be defined to pass through the entire training and test dataset **only once**.\n",
    "\n",
    "We expect as output the values of training cost, test cost and accuracy measured only with the test dataset."
   ]
  },
  {
   "cell_type": "code",
   "execution_count": 67,
   "metadata": {
    "executionInfo": {
     "elapsed": 15,
     "status": "ok",
     "timestamp": 1702405146288,
     "user": {
      "displayName": "Arthur C.",
      "userId": "18023806256318143056"
     },
     "user_tz": 180
    },
    "id": "HycvIcydam2d"
   },
   "outputs": [],
   "source": [
    "def train_test(model, loader_train, loader_test):\n",
    "    train_loss, test_loss, acc = 0, 0, 0\n",
    "    model.train()\n",
    "    for imagem_treino, label_treino in loader_train:\n",
    "        train_batch_loss = 0\n",
    "        imagem_treino, label_treino = imagem_treino.float().to(device), label_treino.to(\n",
    "            device\n",
    "        )\n",
    "        optimizer.zero_grad()\n",
    "        outputs = model(imagem_treino)\n",
    "        train_batch_loss = criterion(outputs, label_treino.long())\n",
    "        train_batch_loss.backward()\n",
    "        optimizer.step()\n",
    "        train_loss += train_batch_loss.item()\n",
    "\n",
    "    if len(loader_train) > 0:\n",
    "        train_loss = train_loss / len(loader_train)\n",
    "    else:\n",
    "        train_loss = train_loss\n",
    "\n",
    "    model.eval()\n",
    "    correct = 0\n",
    "    total = 0\n",
    "    test_loss = 0\n",
    "    for imagem_teste, label_teste in loader_test:\n",
    "        imagem_teste, label_teste = imagem_teste.float().to(device), label_teste.to(\n",
    "            device\n",
    "        )\n",
    "        outputs_test = model(imagem_teste)\n",
    "        _, previsao = torch.max(outputs_test, dim=1)\n",
    "        test_loss += criterion(outputs_test, label_teste.long())\n",
    "        total = total + 1\n",
    "        if previsao == label_teste:\n",
    "            correct = correct + 1\n",
    "\n",
    "    if len(loader_train) > 0:\n",
    "        test_loss = test_loss / len(loader_test)\n",
    "    else:\n",
    "        test_loss = test_loss\n",
    "    acc = (correct / total) * 100\n",
    "    return train_loss, test_loss, acc"
   ]
  },
  {
   "cell_type": "markdown",
   "metadata": {
    "id": "VxqwcQ9parX0"
   },
   "source": [
    "With the cost function and optimizer chosen and the training and testing function ready, we can call it in a *loop* with the number of epochs."
   ]
  },
  {
   "cell_type": "code",
   "execution_count": null,
   "metadata": {
    "colab": {
     "base_uri": "https://localhost:8080/"
    },
    "id": "9yqchI0oaxDT",
    "outputId": "b50d19dd-fe1c-4493-bec7-82bf317799fe"
   },
   "outputs": [],
   "source": [
    "START = time.time()\n",
    "\n",
    "list_train_loss = []\n",
    "list_test_loss = []\n",
    "list_acc = []\n",
    "time1epoch = 0\n",
    "\n",
    "lr = 5e-4\n",
    "epochs = 5\n",
    "\n",
    "optimizer, criterion = define(model, lr)\n",
    "\n",
    "for epoch in range(1, epochs + 1):\n",
    "    start = time.time()\n",
    "    train_loss, test_loss, acc = train_test(model, loader_train, loader_test)\n",
    "    end = time.time()\n",
    "\n",
    "    list_train_loss.append(train_loss), list_test_loss.append(\n",
    "        test_loss.item()\n",
    "    ), list_acc.append(acc)\n",
    "\n",
    "    Time = end - start\n",
    "    if epoch == 1:\n",
    "        time1epoch = Time\n",
    "\n",
    "    if epoch < 10:\n",
    "        print(\n",
    "            \"Epoch: \",\n",
    "            epoch,\n",
    "            \" loss: {:.4f}\".format(test_loss.item()),\n",
    "            \" Accuracy: {:.2f}\".format(acc),\n",
    "            \" Time spent this epoch: {:.2f}\".format(Time),\n",
    "            \"seconds.\",\n",
    "        )\n",
    "    else:\n",
    "        print(\n",
    "            \"Epoch:\",\n",
    "            epoch,\n",
    "            \" loss: {:.4f}\".format(test_loss.item()),\n",
    "            \" Accuracy: {:.2f}\".format(acc),\n",
    "            \" Time spent this epoch: {:.2f}\".format(Time),\n",
    "            \"seconds.\",\n",
    "        )\n",
    "END = time.time()\n",
    "\n",
    "print()\n",
    "TIME = (END - START) - time1epoch\n",
    "print(\n",
    "    \"\\n Time spent during training, excluding first epoch: {:.2f}\".format(TIME),\n",
    "    \"seconds.\",\n",
    ")"
   ]
  },
  {
   "cell_type": "code",
   "execution_count": null,
   "metadata": {
    "id": "EC8V0fYNa2LP"
   },
   "outputs": [],
   "source": [
    "fig, axs = pyplot.subplots(2, figsize=(15, 8))\n",
    "axs[0].plot(range(1, epochs + 1), list_train_loss, label=\"Train loss\")\n",
    "axs[0].plot(range(1, epochs + 1), list_test_loss, label=\"Test loss\")\n",
    "axs[0].set(xticks=range(1, epochs + 1))\n",
    "axs[0].set_title(\"Losses x Epochs\")\n",
    "axs[0].set(xlabel=\"Epochs\")\n",
    "axs[0].set(ylabel=\"Losses\")\n",
    "axs[0].legend()\n",
    "axs[0].grid(True)\n",
    "\n",
    "\n",
    "axs[1].plot(range(1, epochs + 1), list_acc, label=\"Accuracy\")\n",
    "axs[1].set(xticks=range(1, epochs + 1))\n",
    "axs[1].set_title(\"Accuracy x epochs\")\n",
    "axs[1].set(xlabel=\"Epochs\")\n",
    "axs[1].set(ylabel=\"Accuracy (%)\")\n",
    "axs[1].legend(loc=\"lower right\")\n",
    "axs[1].grid(True)\n",
    "\n",
    "pyplot.tight_layout()"
   ]
  },
  {
   "cell_type": "markdown",
   "metadata": {
    "id": "UUYXXEXsbB2g"
   },
   "source": [
    "Validation of our implementation will take place as follows: we will provide the already trained network with the validation *dataset* (`data_valid`) so that the examples it contains can be classified. We will then calculate the classification accuracy of these examples. The cell below is responsible for making this calculation."
   ]
  },
  {
   "cell_type": "code",
   "execution_count": null,
   "metadata": {
    "id": "u9qyT_ILbDnH"
   },
   "outputs": [],
   "source": [
    "total = 0\n",
    "correct = 0\n",
    "loss_valid = 0\n",
    "\n",
    "for imagem_valid, label_valid in loader_valid:\n",
    "\n",
    "    loss_v = 0\n",
    "\n",
    "    imagem_valid, label_valid = imagem_valid.float().to(device), label_valid.to(device)\n",
    "    outputs_valid = model(imagem_valid)\n",
    "    _, previsao = torch.max(outputs_valid, dim=1)\n",
    "    loss_v = criterion(outputs_valid, label_valid.long())\n",
    "    total = total + 1\n",
    "    if previsao == label_valid:\n",
    "        correct = correct + 1\n",
    "    loss_valid += loss_v\n",
    "\n",
    "loss_valid = loss_valid / len(loader_valid)\n",
    "accuracy = (correct / total) * 100\n",
    "\n",
    "print(\"The accuracy obtained was: {:.2f}\".format(accuracy) + \"%.\")\n",
    "print()\n",
    "print(\"The average error obtained was: {:.4f}\".format(loss_valid))\n",
    "print()\n",
    "print(\n",
    "    \"The time spent training, excluding the first epoch, was: {:.2f}\".format(\n",
    "        TIME\n",
    "    ),\n",
    "    \"seconds.\",\n",
    ")\n",
    "print()\n",
    "\n",
    "if accuracy > 95.0 and TIME < 500:\n",
    "    print(\"The results were satisfactory. Congratulations!\")\n",
    "elif accuracy > 95.0 and TIME > 500:\n",
    "    print(\n",
    "        \"The accuracy was satisfactory, but the training time was not. Try to optimize this parameter.\"\n",
    "    )\n",
    "elif accuracy < 95.0 and TIME < 500:\n",
    "    print(\n",
    "        \"The training time was satisfactory, but the accuracy was not. Try to optimize this parameter.\"\n",
    "    )\n",
    "else:\n",
    "    print(\n",
    "        \"The required values have not been met. Try to optimize them.\"\n",
    "    )"
   ]
  }
 ],
 "metadata": {
  "accelerator": "GPU",
  "colab": {
   "gpuType": "T4",
   "provenance": [
    {
     "file_id": "1Tc0YPceSL6gX9-P56TiDuwaTGueoExLL",
     "timestamp": 1620162038033
    }
   ]
  },
  "kernelspec": {
   "display_name": "Python 3",
   "language": "python",
   "name": "python3"
  },
  "language_info": {
   "codemirror_mode": {
    "name": "ipython",
    "version": 3
   },
   "file_extension": ".py",
   "mimetype": "text/x-python",
   "name": "python",
   "nbconvert_exporter": "python",
   "pygments_lexer": "ipython3",
   "version": "3.10.0"
  }
 },
 "nbformat": 4,
 "nbformat_minor": 1
}
